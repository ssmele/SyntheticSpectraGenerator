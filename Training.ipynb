{
 "cells": [
  {
   "cell_type": "code",
   "execution_count": 20,
   "metadata": {},
   "outputs": [],
   "source": [
    "from keras_helpers import EndEpochMetric, GoogleSheetsWriter, sci_standard, z_tol\n",
    "from synthetic_torch_helpers import SynH5Dataset\n",
    "\n",
    "import matplotlib.pyplot as plt\n",
    "\n",
    "from datetime import datetime as dt\n",
    "\n",
    "import numpy as np\n",
    "import os\n",
    "\n",
    "from sklearn.metrics import r2_score\n",
    "\n",
    "\n",
    "from keras.models import Sequential\n",
    "from keras.layers import Dense, Activation, Flatten, Convolution1D, Dropout, MaxPooling1D, Conv2D, Conv1D, InputLayer, Dropout, MaxPooling2D, BatchNormalization\n",
    "from keras.losses import MSE\n",
    "from keras.optimizers import SGD, Adam\n",
    "from keras.callbacks import Callback, ModelCheckpoint\n",
    "import keras.backend as K\n",
    "from keras.models import load_model"
   ]
  },
  {
   "cell_type": "markdown",
   "metadata": {},
   "source": [
    "# Training Configs"
   ]
  },
  {
   "cell_type": "code",
   "execution_count": 25,
   "metadata": {},
   "outputs": [],
   "source": [
    "training_filename = 'generated_sets/syn_flux_dataset_ez3.h5'\n",
    "validation_filename = 'generated_sets/syn_flux_dataset_ez1.h5'\n",
    "epochs = 50\n",
    "batch_size = 128\n",
    "tag = np.random.randint(100000)\n",
    "\n",
    "# Optimzer Config\n",
    "lr = 0.0001"
   ]
  },
  {
   "cell_type": "markdown",
   "metadata": {},
   "source": [
    "# Model Methods"
   ]
  },
  {
   "cell_type": "code",
   "execution_count": 26,
   "metadata": {},
   "outputs": [],
   "source": [
    "def create_mod():\n",
    "    model = Sequential()\n",
    "    model.add(Conv1D(filters=32, kernel_size=10, input_shape=(4563,1)))\n",
    "    model.add(BatchNormalization())\n",
    "    model.add(Activation('relu'))\n",
    "    \n",
    "    model.add(Conv1D(filters=16, kernel_size=10))\n",
    "    model.add(BatchNormalization())\n",
    "    model.add(Activation('relu'))\n",
    "    \n",
    "    model.add(MaxPooling1D())\n",
    "    \n",
    "    model.add(Conv1D(filters=12, kernel_size=5))\n",
    "    model.add(BatchNormalization())\n",
    "    model.add(Activation('relu'))\n",
    "    \n",
    "    model.add(Conv1D(filters=6, kernel_size=5))\n",
    "    model.add(BatchNormalization())\n",
    "    model.add(Activation('relu'))\n",
    "    model.add(MaxPooling1D())\n",
    "    \n",
    "    model.add(Flatten())\n",
    "    \n",
    "    model.add(Dense(1024))\n",
    "    model.add(BatchNormalization())\n",
    "    model.add(Activation('relu'))\n",
    "    model.add(Dropout(.50))\n",
    "    \n",
    "    \n",
    "    model.add(Dense(512))\n",
    "    model.add(BatchNormalization())\n",
    "    model.add(Activation('relu'))\n",
    "    model.add(Dropout(.50))\n",
    "    \n",
    "    \n",
    "    model.add(Dense(256))\n",
    "    model.add(BatchNormalization())\n",
    "    model.add(Activation('relu'))\n",
    "    model.add(Dropout(.50))\n",
    "    \n",
    "    \n",
    "    model.add(Dense(128))\n",
    "    model.add(BatchNormalization())\n",
    "    model.add(Activation('relu'))\n",
    "    model.add(Dropout(.50))\n",
    "    \n",
    "    model.add(Dense(1))\n",
    "    model.compile(loss=MSE, optimizer=Adam(lr=lr), metrics=['mae', 'mape', 'cosine'])\n",
    "    return model"
   ]
  },
  {
   "cell_type": "code",
   "execution_count": 27,
   "metadata": {},
   "outputs": [],
   "source": [
    "mod = create_mod()"
   ]
  },
  {
   "cell_type": "code",
   "execution_count": null,
   "metadata": {},
   "outputs": [
    {
     "name": "stdout",
     "output_type": "stream",
     "text": [
      "[(100000, 4563, 1), (100000, 1), (10000, 4563, 1), (10000, 1)]\n",
      "Train on 100000 samples, validate on 10000 samples\n",
      "Epoch 1/50\n",
      "100000/100000 [==============================] - 128s 1ms/step - loss: 0.9083 - mean_absolute_error: 0.6963 - mean_absolute_percentage_error: 53240563.0224 - cosine_proximity: -0.1804 - val_loss: 0.0105 - val_mean_absolute_error: 0.0623 - val_mean_absolute_percentage_error: 6498181.6123 - val_cosine_proximity: -0.6460\n",
      "Epoch 2/50\n",
      "100000/100000 [==============================] - 141s 1ms/step - loss: 0.2315 - mean_absolute_error: 0.3505 - mean_absolute_percentage_error: 27737848.9480 - cosine_proximity: -0.1384 - val_loss: 0.0016 - val_mean_absolute_error: 0.0323 - val_mean_absolute_percentage_error: 3429480.4045 - val_cosine_proximity: -0.8828\n",
      "Epoch 3/50\n",
      "100000/100000 [==============================] - 137s 1ms/step - loss: 0.0794 - mean_absolute_error: 0.2097 - mean_absolute_percentage_error: 16591903.4110 - cosine_proximity: -0.2093 - val_loss: 0.0018 - val_mean_absolute_error: 0.0348 - val_mean_absolute_percentage_error: 3351018.6710 - val_cosine_proximity: -0.7990\n",
      "Epoch 4/50\n",
      "100000/100000 [==============================] - 139s 1ms/step - loss: 0.0325 - mean_absolute_error: 0.1358 - mean_absolute_percentage_error: 10708835.7461 - cosine_proximity: -0.3081 - val_loss: 0.0015 - val_mean_absolute_error: 0.0335 - val_mean_absolute_percentage_error: 3726391.0085 - val_cosine_proximity: -0.8468\n",
      "Epoch 5/50\n",
      "100000/100000 [==============================] - 136s 1ms/step - loss: 0.0164 - mean_absolute_error: 0.0978 - mean_absolute_percentage_error: 7488424.4218 - cosine_proximity: -0.4206 - val_loss: 0.0017 - val_mean_absolute_error: 0.0347 - val_mean_absolute_percentage_error: 3409441.0064 - val_cosine_proximity: -0.8484\n",
      "Epoch 6/50\n",
      "100000/100000 [==============================] - 134s 1ms/step - loss: 0.0096 - mean_absolute_error: 0.0751 - mean_absolute_percentage_error: 5575110.7554 - cosine_proximity: -0.5339 - val_loss: 0.0013 - val_mean_absolute_error: 0.0301 - val_mean_absolute_percentage_error: 2775841.0890 - val_cosine_proximity: -0.8866\n",
      "Epoch 7/50\n",
      "100000/100000 [==============================] - 138s 1ms/step - loss: 0.0057 - mean_absolute_error: 0.0579 - mean_absolute_percentage_error: 4160670.4605 - cosine_proximity: -0.6596 - val_loss: 8.0801e-04 - val_mean_absolute_error: 0.0234 - val_mean_absolute_percentage_error: 2123289.5390 - val_cosine_proximity: -0.9330\n",
      "Epoch 8/50\n",
      "100000/100000 [==============================] - 136s 1ms/step - loss: 0.0041 - mean_absolute_error: 0.0492 - mean_absolute_percentage_error: 3433481.9911 - cosine_proximity: -0.7262 - val_loss: 4.9379e-04 - val_mean_absolute_error: 0.0182 - val_mean_absolute_percentage_error: 2028378.3794 - val_cosine_proximity: -0.9310\n",
      "Epoch 9/50\n",
      "100000/100000 [==============================] - 136s 1ms/step - loss: 0.0027 - mean_absolute_error: 0.0392 - mean_absolute_percentage_error: 2854889.4819 - cosine_proximity: -0.8030 - val_loss: 2.8619e-04 - val_mean_absolute_error: 0.0131 - val_mean_absolute_percentage_error: 1168518.9907 - val_cosine_proximity: -0.9302\n",
      "Epoch 10/50\n",
      "100000/100000 [==============================] - 137s 1ms/step - loss: 0.0017 - mean_absolute_error: 0.0311 - mean_absolute_percentage_error: 2400033.7009 - cosine_proximity: -0.8483 - val_loss: 3.5903e-04 - val_mean_absolute_error: 0.0157 - val_mean_absolute_percentage_error: 1822634.5802 - val_cosine_proximity: -0.9322\n",
      "Epoch 11/50\n",
      "100000/100000 [==============================] - 143s 1ms/step - loss: 0.0013 - mean_absolute_error: 0.0270 - mean_absolute_percentage_error: 2255975.2005 - cosine_proximity: -0.8712 - val_loss: 0.0022 - val_mean_absolute_error: 0.0375 - val_mean_absolute_percentage_error: 2269135.9094 - val_cosine_proximity: -0.9208\n",
      "Epoch 12/50\n",
      "100000/100000 [==============================] - 144s 1ms/step - loss: 0.0010 - mean_absolute_error: 0.0243 - mean_absolute_percentage_error: 2116207.0458 - cosine_proximity: -0.8758 - val_loss: 4.0891e-04 - val_mean_absolute_error: 0.0168 - val_mean_absolute_percentage_error: 2189422.5976 - val_cosine_proximity: -0.9324\n",
      "Epoch 13/50\n",
      "100000/100000 [==============================] - 140s 1ms/step - loss: 7.9057e-04 - mean_absolute_error: 0.0216 - mean_absolute_percentage_error: 1987805.2659 - cosine_proximity: -0.8821 - val_loss: 3.6921e-04 - val_mean_absolute_error: 0.0160 - val_mean_absolute_percentage_error: 2109255.6325 - val_cosine_proximity: -0.9326\n",
      "Epoch 14/50\n",
      "100000/100000 [==============================] - 139s 1ms/step - loss: 5.6817e-04 - mean_absolute_error: 0.0183 - mean_absolute_percentage_error: 1796403.6297 - cosine_proximity: -0.8914 - val_loss: 3.0430e-04 - val_mean_absolute_error: 0.0144 - val_mean_absolute_percentage_error: 1962413.7094 - val_cosine_proximity: -0.9322\n",
      "Epoch 15/50\n",
      "100000/100000 [==============================] - 139s 1ms/step - loss: 6.3063e-04 - mean_absolute_error: 0.0187 - mean_absolute_percentage_error: 1791903.5660 - cosine_proximity: -0.8890 - val_loss: 1.4553e-04 - val_mean_absolute_error: 0.0095 - val_mean_absolute_percentage_error: 1393803.5136 - val_cosine_proximity: -0.9304\n",
      "Couldnt write to sheet:['epoch', 'val_loss', 'val_mean_absolute_error', 'val_mean_absolute_percentage_error', 'val_cosine_proximity', 'loss', 'mean_absolute_error', 'mean_absolute_percentage_error', 'cosine_proximity', 'train_custom_sci_standard', 'train_custom_r2_score', 'val_custom_sci_standard', 'val_custom_r2_score']\n",
      " [14, 0.00014553446709178388, 0.009458523073792458, 1393803.5136306733, -0.9304, 0.0006306301335804164, 0.01867609573185444, 1791903.56605, -0.88901, 0.06791000068187714, 0.864349599189898, 0.06499999761581421, 0.8649313839983449]\n",
      "Epoch 16/50\n",
      "100000/100000 [==============================] - 142s 1ms/step - loss: 3.8599e-04 - mean_absolute_error: 0.0152 - mean_absolute_percentage_error: 1537154.5989 - cosine_proximity: -0.8976 - val_loss: 1.9050e-04 - val_mean_absolute_error: 0.0110 - val_mean_absolute_percentage_error: 1528282.2662 - val_cosine_proximity: -0.9312\n",
      "Couldnt write to sheet:['epoch', 'val_loss', 'val_mean_absolute_error', 'val_mean_absolute_percentage_error', 'val_cosine_proximity', 'loss', 'mean_absolute_error', 'mean_absolute_percentage_error', 'cosine_proximity', 'train_custom_sci_standard', 'train_custom_r2_score', 'val_custom_sci_standard', 'val_custom_r2_score']\n",
      " [15, 0.00019050239052157848, 0.01098366559445858, 1528282.266159369, -0.9312, 0.0003859907013736665, 0.015158509969115257, 1537154.5989, -0.89755, 0.06390000134706497, 0.7959762481936411, 0.06449999660253525, 0.7978231212540061]\n",
      "Epoch 17/50\n",
      "100000/100000 [==============================] - 139s 1ms/step - loss: 3.1303e-04 - mean_absolute_error: 0.0135 - mean_absolute_percentage_error: 1382418.0937 - cosine_proximity: -0.9021 - val_loss: 1.2454e-04 - val_mean_absolute_error: 0.0088 - val_mean_absolute_percentage_error: 1329528.8554 - val_cosine_proximity: -0.9324\n",
      "Couldnt write to sheet:['epoch', 'val_loss', 'val_mean_absolute_error', 'val_mean_absolute_percentage_error', 'val_cosine_proximity', 'loss', 'mean_absolute_error', 'mean_absolute_percentage_error', 'cosine_proximity', 'train_custom_sci_standard', 'train_custom_r2_score', 'val_custom_sci_standard', 'val_custom_r2_score']\n",
      " [16, 0.00012453702900093049, 0.008827477563917637, 1329528.855443933, -0.9324, 0.00031302676853723824, 0.013516798679828643, 1382418.0936975, -0.90205, 0.05708000063896179, 0.8851047895909996, 0.05810000002384186, 0.8863157823688786]\n",
      "Epoch 18/50\n",
      "100000/100000 [==============================] - 138s 1ms/step - loss: 2.6448e-04 - mean_absolute_error: 0.0124 - mean_absolute_percentage_error: 1264775.8148 - cosine_proximity: -0.9051 - val_loss: 1.8600e-04 - val_mean_absolute_error: 0.0110 - val_mean_absolute_percentage_error: 1595395.1644 - val_cosine_proximity: -0.9326\n",
      "Couldnt write to sheet:['epoch', 'val_loss', 'val_mean_absolute_error', 'val_mean_absolute_percentage_error', 'val_cosine_proximity', 'loss', 'mean_absolute_error', 'mean_absolute_percentage_error', 'cosine_proximity', 'train_custom_sci_standard', 'train_custom_r2_score', 'val_custom_sci_standard', 'val_custom_r2_score']\n",
      " [17, 0.00018599505256861447, 0.011010401333868504, 1595395.1644005463, -0.9326, 0.0002644812796451151, 0.012410184733867645, 1264775.814805, -0.90509, 0.055969998240470886, 0.7970941558461049, 0.05480000004172325, 0.7983183723637528]\n",
      "Epoch 19/50\n",
      "100000/100000 [==============================] - 137s 1ms/step - loss: 2.4325e-04 - mean_absolute_error: 0.0119 - mean_absolute_percentage_error: 1207342.4903 - cosine_proximity: -0.9074 - val_loss: 1.1126e-04 - val_mean_absolute_error: 0.0082 - val_mean_absolute_percentage_error: 1283585.4385 - val_cosine_proximity: -0.9326\n",
      "Couldnt write to sheet:['epoch', 'val_loss', 'val_mean_absolute_error', 'val_mean_absolute_percentage_error', 'val_cosine_proximity', 'loss', 'mean_absolute_error', 'mean_absolute_percentage_error', 'cosine_proximity', 'train_custom_sci_standard', 'train_custom_r2_score', 'val_custom_sci_standard', 'val_custom_r2_score']\n",
      " [18, 0.00011126395319588482, 0.008233405330777169, 1283585.4385037902, -0.9326, 0.00024324876591563224, 0.01189029579281807, 1207342.49029, -0.90743, 0.07546000182628632, 0.8995900867616412, 0.07349999994039536, 0.9012762409466804]\n",
      "Epoch 20/50\n",
      "100000/100000 [==============================] - 138s 1ms/step - loss: 2.1694e-04 - mean_absolute_error: 0.0112 - mean_absolute_percentage_error: 1133195.4441 - cosine_proximity: -0.9095 - val_loss: 8.4772e-05 - val_mean_absolute_error: 0.0070 - val_mean_absolute_percentage_error: 1304698.1898 - val_cosine_proximity: -0.9326\n",
      "Couldnt write to sheet:['epoch', 'val_loss', 'val_mean_absolute_error', 'val_mean_absolute_percentage_error', 'val_cosine_proximity', 'loss', 'mean_absolute_error', 'mean_absolute_percentage_error', 'cosine_proximity', 'train_custom_sci_standard', 'train_custom_r2_score', 'val_custom_sci_standard', 'val_custom_r2_score']\n",
      " [19, 8.47718742734287e-05, 0.006990695118159055, 1304698.1898279663, -0.9326, 0.00021693806000985206, 0.011220450412034988, 1133195.4441, -0.90953, 0.07684999704360962, 0.9308028810594929, 0.07720000296831131, 0.9319583175372406]\n",
      "Epoch 21/50\n",
      "100000/100000 [==============================] - 137s 1ms/step - loss: 1.8376e-04 - mean_absolute_error: 0.0104 - mean_absolute_percentage_error: 1045226.2033 - cosine_proximity: -0.9133 - val_loss: 1.2325e-04 - val_mean_absolute_error: 0.0088 - val_mean_absolute_percentage_error: 1424107.6476 - val_cosine_proximity: -0.9326\n",
      "Couldnt write to sheet:['epoch', 'val_loss', 'val_mean_absolute_error', 'val_mean_absolute_percentage_error', 'val_cosine_proximity', 'loss', 'mean_absolute_error', 'mean_absolute_percentage_error', 'cosine_proximity', 'train_custom_sci_standard', 'train_custom_r2_score', 'val_custom_sci_standard', 'val_custom_r2_score']\n",
      " [20, 0.0001232482748106122, 0.008793289338052273, 1424107.6475685546, -0.9326, 0.00018376019738614558, 0.010353958370983601, 1045226.20333, -0.91331, 0.06157999858260155, 0.8840983815412093, 0.062300000339746475, 0.8858518114687054]\n",
      "Epoch 22/50\n",
      "100000/100000 [==============================] - 140s 1ms/step - loss: 1.6205e-04 - mean_absolute_error: 0.0097 - mean_absolute_percentage_error: 983416.0235 - cosine_proximity: -0.9137 - val_loss: 1.0603e-04 - val_mean_absolute_error: 0.0083 - val_mean_absolute_percentage_error: 1184860.8088 - val_cosine_proximity: -0.9326\n",
      "Couldnt write to sheet:['epoch', 'val_loss', 'val_mean_absolute_error', 'val_mean_absolute_percentage_error', 'val_cosine_proximity', 'loss', 'mean_absolute_error', 'mean_absolute_percentage_error', 'cosine_proximity', 'train_custom_sci_standard', 'train_custom_r2_score', 'val_custom_sci_standard', 'val_custom_r2_score']\n",
      " [21, 0.00010603324335534126, 0.008282234463095665, 1184860.808839673, -0.9326, 0.00016205164556391536, 0.009724770373106003, 983416.02353, -0.91369, 0.09203000366687775, 0.9060959460782091, 0.09149999916553497, 0.9075188550653557]\n",
      "Epoch 23/50\n",
      "100000/100000 [==============================] - 142s 1ms/step - loss: 1.4665e-04 - mean_absolute_error: 0.0092 - mean_absolute_percentage_error: 925464.3106 - cosine_proximity: -0.9150 - val_loss: 1.0595e-04 - val_mean_absolute_error: 0.0084 - val_mean_absolute_percentage_error: 1261365.2426 - val_cosine_proximity: -0.9330\n",
      "Couldnt write to sheet:['epoch', 'val_loss', 'val_mean_absolute_error', 'val_mean_absolute_percentage_error', 'val_cosine_proximity', 'loss', 'mean_absolute_error', 'mean_absolute_percentage_error', 'cosine_proximity', 'train_custom_sci_standard', 'train_custom_r2_score', 'val_custom_sci_standard', 'val_custom_r2_score']\n",
      " [22, 0.00010594765329733491, 0.008381995756924152, 1261365.2426378052, -0.933, 0.00014665129731874913, 0.009201208474338054, 925464.3106, -0.91503, 0.06145999953150749, 0.9045391189146001, 0.059300001710653305, 0.9051025837323334]\n",
      "Epoch 24/50\n",
      "100000/100000 [==============================] - 142s 1ms/step - loss: 1.3585e-04 - mean_absolute_error: 0.0088 - mean_absolute_percentage_error: 908137.9720 - cosine_proximity: -0.9145 - val_loss: 7.0613e-05 - val_mean_absolute_error: 0.0064 - val_mean_absolute_percentage_error: 851002.0039 - val_cosine_proximity: -0.9330\n",
      "Couldnt write to sheet:['epoch', 'val_loss', 'val_mean_absolute_error', 'val_mean_absolute_percentage_error', 'val_cosine_proximity', 'loss', 'mean_absolute_error', 'mean_absolute_percentage_error', 'cosine_proximity', 'train_custom_sci_standard', 'train_custom_r2_score', 'val_custom_sci_standard', 'val_custom_r2_score']\n",
      " [23, 7.061268670950085e-05, 0.0063810066387057305, 851002.0038722091, -0.933, 0.00013584990379400552, 0.008848104355037212, 908137.9720415112, -0.91451, 0.14733999967575073, 0.9449107712558676, 0.1467999964952469, 0.9446322492888319]\n",
      "Epoch 25/50\n",
      "100000/100000 [==============================] - 139s 1ms/step - loss: 1.2757e-04 - mean_absolute_error: 0.0085 - mean_absolute_percentage_error: 867642.7798 - cosine_proximity: -0.9146 - val_loss: 6.1753e-05 - val_mean_absolute_error: 0.0060 - val_mean_absolute_percentage_error: 992897.3866 - val_cosine_proximity: -0.9330\n",
      "Couldnt write to sheet:['epoch', 'val_loss', 'val_mean_absolute_error', 'val_mean_absolute_percentage_error', 'val_cosine_proximity', 'loss', 'mean_absolute_error', 'mean_absolute_percentage_error', 'cosine_proximity', 'train_custom_sci_standard', 'train_custom_r2_score', 'val_custom_sci_standard', 'val_custom_r2_score']\n",
      " [24, 6.175314748543314e-05, 0.005951597078889609, 992897.3865825532, -0.933, 0.00012756735981442034, 0.008528224157691002, 867642.7797525, -0.91461, 0.11257000267505646, 0.9521483431495585, 0.11710000038146973, 0.9522535489792308]\n",
      "Epoch 26/50\n",
      "100000/100000 [==============================] - 139s 1ms/step - loss: 1.1537e-04 - mean_absolute_error: 0.0081 - mean_absolute_percentage_error: 828696.6615 - cosine_proximity: -0.9147 - val_loss: 3.0300e-05 - val_mean_absolute_error: 0.0041 - val_mean_absolute_percentage_error: 797855.7657 - val_cosine_proximity: -0.9330\n",
      "Couldnt write to sheet:['epoch', 'val_loss', 'val_mean_absolute_error', 'val_mean_absolute_percentage_error', 'val_cosine_proximity', 'loss', 'mean_absolute_error', 'mean_absolute_percentage_error', 'cosine_proximity', 'train_custom_sci_standard', 'train_custom_r2_score', 'val_custom_sci_standard', 'val_custom_r2_score']\n",
      " [25, 3.0299608208588323e-05, 0.004133920820057392, 797855.7656997574, -0.933, 0.00011536687932908536, 0.008079552692174911, 828696.661456875, -0.91471, 0.166920006275177, 0.9791660517351398, 0.16130000352859497, 0.9794739190716537]\n",
      "Epoch 27/50\n",
      "100000/100000 [==============================] - 139s 1ms/step - loss: 1.0653e-04 - mean_absolute_error: 0.0077 - mean_absolute_percentage_error: 809916.6334 - cosine_proximity: -0.9147 - val_loss: 1.0786e-05 - val_mean_absolute_error: 0.0026 - val_mean_absolute_percentage_error: 342836.1917 - val_cosine_proximity: -0.9330\n",
      "Couldnt write to sheet:['epoch', 'val_loss', 'val_mean_absolute_error', 'val_mean_absolute_percentage_error', 'val_cosine_proximity', 'loss', 'mean_absolute_error', 'mean_absolute_percentage_error', 'cosine_proximity', 'train_custom_sci_standard', 'train_custom_r2_score', 'val_custom_sci_standard', 'val_custom_r2_score']\n",
      " [26, 1.0786406374245416e-05, 0.0025506041698157788, 342836.19174917677, -0.933, 0.00010653258215636015, 0.007701858150959015, 809916.633428861, -0.91473, 0.22457000613212585, 0.9934721070772758, 0.23149999976158142, 0.993610111118795]\n",
      "Epoch 28/50\n",
      " 97024/100000 [============================>.]"
     ]
    }
   ],
   "source": [
    "# Setting up the data\n",
    "train_dataset = SynH5Dataset(filename=training_filename, load_to_memory=True)\n",
    "val_dataset = SynH5Dataset(filename=validation_filename, load_to_memory=True)\n",
    "train_dataset.flux = train_dataset.flux.swapaxes(1, 2)\n",
    "val_dataset.flux = val_dataset.flux.swapaxes(1, 2)\n",
    "print(list(map(lambda x: x.shape, [train_dataset.flux, train_dataset.zs, val_dataset.flux, val_dataset.zs])))\n",
    "\n",
    "# Creating the model\n",
    "mod = create_mod()\n",
    "\n",
    "exp_info = {\n",
    "    'tag': tag,\n",
    "    'batch_size': batch_size,\n",
    "    'epoch': epochs,\n",
    "    'training_filename': training_filename,\n",
    "    'validation_filename': validation_filename,\n",
    "    'optimizer': str(mod.optimizer.__class__),\n",
    "    **mod.optimizer.get_config()\n",
    "}\n",
    "\n",
    "# Setting up the callbacks,\n",
    "fp_dir = './models_redshift/sess_{}_{}'.format(tag, dt.now().strftime(\"%Y%m%d-%H%M%S\"))\n",
    "fp = fp_dir + '/mods.{epoch:02d}-{val_loss:0.15f}.hdf5'\n",
    "os.mkdir(fp_dir)\n",
    "md_chk = ModelCheckpoint(fp, monitor='val_loss', save_best_only=True)\n",
    "epm = EndEpochMetric([sci_standard, r2_score], datasets=[('train', train_dataset.flux, train_dataset.zs), ('val', val_dataset.flux, val_dataset.zs)])\n",
    "gsw_clb = GoogleSheetsWriter(json_keyfile='./ModelTracker-004be3368142.json', training_spreadsheet='Model Tracking', model_info=mod, exp_info=exp_info)\n",
    "\n",
    "# Actual Training\n",
    "hist = mod.fit(train_dataset.flux, train_dataset.zs, epochs=epochs, shuffle=True, batch_size=batch_size, validation_data=(val_dataset.flux, val_dataset.zs), callbacks=[md_chk, epm, gsw_clb])"
   ]
  },
  {
   "cell_type": "code",
   "execution_count": null,
   "metadata": {},
   "outputs": [],
   "source": [
    "train_preds = mod.predict(train_dataset.flux)"
   ]
  },
  {
   "cell_type": "code",
   "execution_count": null,
   "metadata": {},
   "outputs": [],
   "source": [
    "val_preds = mod.predict(val_dataset.flux)"
   ]
  },
  {
   "cell_type": "markdown",
   "metadata": {},
   "source": [
    "# Visualizing Scientifc"
   ]
  },
  {
   "cell_type": "code",
   "execution_count": 8,
   "metadata": {},
   "outputs": [],
   "source": [
    "best_mod = load_model('models_redshift/sess_5387_20190711-132623/mods.50-0.001021413670480.hdf5', custom_objects={'sci_standard': sci_standard})\n",
    "train_preds = best_mod.predict(train_dataset.flux)\n",
    "val_preds = best_mod.predict(val_dataset.flux)"
   ]
  },
  {
   "cell_type": "code",
   "execution_count": 19,
   "metadata": {},
   "outputs": [],
   "source": [
    "from keras_helpers import z_tol"
   ]
  },
  {
   "cell_type": "code",
   "execution_count": 17,
   "metadata": {},
   "outputs": [
    {
     "data": {
      "image/png": "[encoded data removed]",
      "text/plain": [
       "<Figure size 432x288 with 1 Axes>"
      ]
     },
     "metadata": {
      "needs_background": "light"
     },
     "output_type": "display_data"
    }
   ],
   "source": [
    "plt.axvline(z_tol, c='red')\n",
    "plt.axvline(-z_tol, c='red')\n",
    "plt.hist(train_dataset.zs - train_preds)\n",
    "plt.title(K.eval(sci_standard(train_dataset.zs, train_preds)))\n",
    "plt.show()"
   ]
  },
  {
   "cell_type": "code",
   "execution_count": 18,
   "metadata": {},
   "outputs": [
    {
     "data": {
      "image/png": "[encoded data removed]",
      "text/plain": [
       "<Figure size 432x288 with 1 Axes>"
      ]
     },
     "metadata": {
      "needs_background": "light"
     },
     "output_type": "display_data"
    }
   ],
   "source": [
    "plt.axvline(z_tol, c='red')\n",
    "plt.axvline(-z_tol, c='red')\n",
    "plt.hist(val_preds - val_dataset.zs)\n",
    "plt.title(K.eval(sci_standard(val_preds, val_dataset.zs)))\n",
    "plt.show()"
   ]
  }
 ],
 "metadata": {
  "kernelspec": {
   "display_name": "Python 3",
   "language": "python",
   "name": "python3"
  },
  "language_info": {
   "codemirror_mode": {
    "name": "ipython",
    "version": 3
   },
   "file_extension": ".py",
   "mimetype": "text/x-python",
   "name": "python",
   "nbconvert_exporter": "python",
   "pygments_lexer": "ipython3",
   "version": "3.7.2"
  }
 },
 "nbformat": 4,
 "nbformat_minor": 2
}
