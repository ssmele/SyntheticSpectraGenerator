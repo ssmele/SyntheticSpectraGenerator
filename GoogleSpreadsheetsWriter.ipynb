{
 "cells": [
  {
   "cell_type": "markdown",
   "metadata": {},
   "source": [
    "# Google Docs Model Checkpoint"
   ]
  },
  {
   "cell_type": "code",
   "execution_count": 1,
   "metadata": {},
   "outputs": [
    {
     "name": "stderr",
     "output_type": "stream",
     "text": [
      "Using TensorFlow backend.\n"
     ]
    }
   ],
   "source": [
    "import gspread\n",
    "from oauth2client.service_account import ServiceAccountCredentials\n",
    "\n",
    "from datetime import datetime as dt\n",
    "\n",
    "from keras.models import Sequential\n",
    "from keras.layers import Dense, Activation, Flatten, Convolution1D, Dropout, MaxPooling1D, Conv2D, Conv1D, InputLayer, Dropout, MaxPooling2D, BatchNormalization\n",
    "from keras.losses import MSE\n",
    "from keras.optimizers import SGD, Adam\n",
    "from keras.callbacks import Callback, ModelCheckpoint\n",
    "import keras.backend as K\n",
    "from keras.models import load_model\n",
    "\n",
    "import numpy as np\n",
    "import torch\n",
    "import matplotlib.pyplot as plt\n",
    "import datetime\n",
    "import tensorflow as tf\n",
    "import os\n",
    "\n",
    "from sklearn.metrics import r2_score\n",
    "from synthetic_torch_helpers import SynH5Dataset\n",
    "from sklearn.preprocessing import StandardScaler"
   ]
  },
  {
   "cell_type": "markdown",
   "metadata": {},
   "source": [
    "***"
   ]
  },
  {
   "cell_type": "markdown",
   "metadata": {},
   "source": [
    "# Simple google sheets manipulation"
   ]
  },
  {
   "cell_type": "code",
   "execution_count": 2,
   "metadata": {},
   "outputs": [],
   "source": [
    "# use creds to create a client to interact with the Google Drive API\n",
    "scope = ['https://spreadsheets.google.com/feeds','https://www.googleapis.com/auth/drive']\n",
    "creds = ServiceAccountCredentials.from_json_keyfile_name('./ModelTracker-004be3368142.json', scope)\n",
    "# gc = gspread.authorize(creds)"
   ]
  },
  {
   "cell_type": "code",
   "execution_count": 4,
   "metadata": {},
   "outputs": [],
   "source": [
    "sheet = gc.open(\"Model Tracking\").sheet1"
   ]
  },
  {
   "cell_type": "code",
   "execution_count": 14,
   "metadata": {},
   "outputs": [
    {
     "data": {
      "text/plain": [
       "{'spreadsheetId': '1pP_mPockicOJURjygCs8XPF2IpZod-h1RXNd0HkpOPE',\n",
       " 'tableRange': 'Sheet1!A1:D11',\n",
       " 'updates': {'spreadsheetId': '1pP_mPockicOJURjygCs8XPF2IpZod-h1RXNd0HkpOPE',\n",
       "  'updatedRange': 'Sheet1!A12:D12',\n",
       "  'updatedRows': 1,\n",
       "  'updatedColumns': 4,\n",
       "  'updatedCells': 4}}"
      ]
     },
     "execution_count": 14,
     "metadata": {},
     "output_type": "execute_result"
    }
   ],
   "source": [
    "sheet.append_row([1, 2, 3, 'WOW'])"
   ]
  },
  {
   "cell_type": "markdown",
   "metadata": {},
   "source": [
    "***"
   ]
  },
  {
   "cell_type": "markdown",
   "metadata": {},
   "source": [
    "# Making the callback"
   ]
  },
  {
   "cell_type": "code",
   "execution_count": 42,
   "metadata": {},
   "outputs": [],
   "source": [
    "class GoogleSheetsWriter(Callback):\n",
    "    \"\"\"\n",
    "    \"\"\"\n",
    "    \n",
    "    def __init__(self, json_keyfile, training_spreadsheet, model_info, exp_info, *args, **kwargs):\n",
    "        super(GoogleSheetsWriter, self).__init__(*args, **kwargs)  \n",
    "        \n",
    "        # use creds to create a client to interact with the Google Drive API\n",
    "        scope = ['https://spreadsheets.google.com/feeds','https://www.googleapis.com/auth/drive']\n",
    "        creds = ServiceAccountCredentials.from_json_keyfile_name(json_keyfile, scope)\n",
    "        self.gc = gspread.authorize(creds)\n",
    "        \n",
    "        # open the training sheet and make a new worksheet.\n",
    "        self.spreadsheet = self.gc.open(training_spreadsheet)\n",
    "        self.ws = self.spreadsheet.add_worksheet('TrainingData_{}'.format(dt.now().strftime(\"%Y-%m-%d-%H_%M_%S\")), 10, 10)\n",
    "\n",
    "        # writing model info\n",
    "        self.ws.append_row(list(model_info.keys()))\n",
    "        self.ws.append_row(list(model_info.values()))\n",
    "        \n",
    "        # writing experiment info\n",
    "        self.ws.append_row(list(exp_info.keys()))\n",
    "        self.ws.append_row(list(exp_info.values()))\n",
    "                 \n",
    "    def on_epoch_end(self, epoch, logs={}):\n",
    "        # writing evaluation metrics.\n",
    "        if len(self.ws.get_all_values()) <= 5:\n",
    "            self.ws.append_row(['epoch'] + list(logs.keys()))\n",
    "        self.ws.append_row([epoch] + list(logs.values()))"
   ]
  },
  {
   "cell_type": "markdown",
   "metadata": {},
   "source": [
    "***"
   ]
  },
  {
   "cell_type": "markdown",
   "metadata": {},
   "source": [
    "# Setting up Data"
   ]
  },
  {
   "cell_type": "markdown",
   "metadata": {},
   "source": [
    "### Loading Datasets"
   ]
  },
  {
   "cell_type": "code",
   "execution_count": 2,
   "metadata": {},
   "outputs": [],
   "source": [
    "train_dataset = SynH5Dataset(filename=\"generated_sets/syn_flux_dataset_ez1.h5\", load_to_memory=True)\n",
    "val_dataset = SynH5Dataset(filename=\"generated_sets/syn_flux_dataset_ez1.h5\", load_to_memory=True)\n",
    "\n",
    "train_dataset.flux = train_dataset.flux.swapaxes(1, 2)\n",
    "val_dataset.flux = val_dataset.flux.swapaxes(1, 2)\n",
    "\n",
    "list(map(lambda x: x.shape, [train_dataset.flux, train_dataset.zs, val_dataset.flux, val_dataset.zs]))"
   ]
  },
  {
   "cell_type": "markdown",
   "metadata": {},
   "source": [
    "***"
   ]
  },
  {
   "cell_type": "markdown",
   "metadata": {},
   "source": [
    "### Custom Metrics"
   ]
  },
  {
   "cell_type": "code",
   "execution_count": 44,
   "metadata": {},
   "outputs": [],
   "source": [
    "kms = 300\n",
    "c = 299792.458 #Speed of Light in kms\n",
    "z_tol = np.sqrt((1+kms/c)/(1-kms/c))-1 "
   ]
  },
  {
   "cell_type": "code",
   "execution_count": 45,
   "metadata": {},
   "outputs": [
    {
     "data": {
      "text/plain": [
       "(array([1289.,  668., 1392.,  663.,  621., 1390.,  600., 1379.,  679.,\n",
       "        1319.]),\n",
       " array([0.   , 0.014, 0.028, 0.042, 0.056, 0.07 , 0.084, 0.098, 0.112,\n",
       "        0.126, 0.14 ], dtype=float32),\n",
       " <a list of 10 Patch objects>)"
      ]
     },
     "execution_count": 45,
     "metadata": {},
     "output_type": "execute_result"
    },
    {
     "data": {
      "image/png": "[encoded data removed]",
      "text/plain": [
       "<Figure size 432x288 with 1 Axes>"
      ]
     },
     "metadata": {
      "needs_background": "light"
     },
     "output_type": "display_data"
    }
   ],
   "source": [
    "plt.axvline(z_tol,c='red')\n",
    "plt.axvline(-z_tol,c='red')\n",
    "plt.hist(val_dataset.zs)"
   ]
  },
  {
   "cell_type": "code",
   "execution_count": 46,
   "metadata": {},
   "outputs": [],
   "source": [
    "def sci_standard(y_t, y_p):\n",
    "    return K.mean(K.less_equal(np.abs(y_t - y_p), z_tol))"
   ]
  },
  {
   "cell_type": "code",
   "execution_count": 47,
   "metadata": {},
   "outputs": [],
   "source": [
    "class EndEpochMetric(Callback):\n",
    "    \"\"\"\n",
    "    This callback will evaluate \n",
    "    \"\"\"\n",
    "    \n",
    "    def __init__(self, metrics, datasets, *args, **kwargs):\n",
    "        super(EndEpochMetric, self).__init__(*args, **kwargs)\n",
    "        self.metrics = metrics\n",
    "        self.datasets = datasets\n",
    "    \n",
    "    def on_epoch_end(self, epoch, logs={}):\n",
    "        for ix, (dataset_name, x, y) in enumerate(self.datasets):\n",
    "            for cur_metric in self.metrics:\n",
    "                v = cur_metric(self.model.predict(x), y)\n",
    "                if isinstance(v, tf.Tensor):\n",
    "                    v = K.eval(v)\n",
    "                logs[dataset_name + '_custom_' + cur_metric.__name__] = float(v)"
   ]
  },
  {
   "cell_type": "markdown",
   "metadata": {},
   "source": [
    "***"
   ]
  },
  {
   "cell_type": "markdown",
   "metadata": {},
   "source": [
    "# Model Architecture"
   ]
  },
  {
   "cell_type": "code",
   "execution_count": 48,
   "metadata": {},
   "outputs": [],
   "source": [
    "def create_complex():\n",
    "    model = Sequential()\n",
    "#     model.add(InputLayer(input_shape=(1, 4563)))\n",
    "    \n",
    "    model.add(Conv1D(filters=2, kernel_size=10, input_shape=(4563,1)))\n",
    "    model.add(BatchNormalization())\n",
    "    model.add(Activation('relu'))\n",
    "    model.add(Flatten())\n",
    "    \n",
    "    model.add(Dense(1024))\n",
    "    model.add(BatchNormalization())\n",
    "    model.add(Activation('relu'))\n",
    "    model.add(Dropout(.50))     \n",
    "    \n",
    "    \n",
    "    model.add(Dense(128))\n",
    "    model.add(BatchNormalization())\n",
    "    model.add(Activation('relu'))\n",
    "    model.add(Dropout(.50))\n",
    "    \n",
    "    model.add(Dense(1))\n",
    "    model.compile(loss=MSE, optimizer=Adam(lr=0.001), metrics=['mae', 'mape', 'cosine'])\n",
    "    return model"
   ]
  },
  {
   "cell_type": "code",
   "execution_count": 49,
   "metadata": {},
   "outputs": [
    {
     "data": {
      "text/plain": [
       "<keras.engine.sequential.Sequential at 0x21fd9773d30>"
      ]
     },
     "execution_count": 49,
     "metadata": {},
     "output_type": "execute_result"
    }
   ],
   "source": [
    "mod = create_complex()\n",
    "mod"
   ]
  },
  {
   "cell_type": "code",
   "execution_count": 50,
   "metadata": {},
   "outputs": [],
   "source": [
    "epm = EndEpochMetric([sci_standard, r2_score], datasets=[('train', train_dataset.flux, train_dataset.zs), ('val', val_dataset.flux, val_dataset.zs)])"
   ]
  },
  {
   "cell_type": "code",
   "execution_count": 51,
   "metadata": {},
   "outputs": [],
   "source": [
    "gsw_clb = GoogleSheetsWriter(json_keyfile='./ModelTracker-004be3368142.json', training_spreadsheet='Model Tracking', \n",
    "                   model_info={'cool': 123}, exp_info={'owowow': 123, 'yeet': \"wowo\"})"
   ]
  },
  {
   "cell_type": "code",
   "execution_count": 39,
   "metadata": {},
   "outputs": [
    {
     "name": "stdout",
     "output_type": "stream",
     "text": [
      "Train on 100000 samples, validate on 10000 samples\n",
      "Epoch 1/25\n",
      "100000/100000 [==============================] - 28s 279us/step - loss: 0.1658 - mean_absolute_error: 0.2310 - mean_absolute_percentage_error: 17270327.9445 - cosine_proximity: -0.3155 - val_loss: 4.3911e-04 - val_mean_absolute_error: 0.0154 - val_mean_absolute_percentage_error: 1131746.4417 - val_cosine_proximity: -0.9240\n",
      "Epoch 2/25\n",
      "100000/100000 [==============================] - 34s 343us/step - loss: 0.0017 - mean_absolute_error: 0.0305 - mean_absolute_percentage_error: 1897127.9235 - cosine_proximity: -0.8437 - val_loss: 2.6105e-04 - val_mean_absolute_error: 0.0119 - val_mean_absolute_percentage_error: 1219270.0352 - val_cosine_proximity: -0.9330\n",
      "Epoch 3/25\n",
      "100000/100000 [==============================] - 72s 723us/step - loss: 4.2693e-04 - mean_absolute_error: 0.0157 - mean_absolute_percentage_error: 1202707.3483 - cosine_proximity: -0.9132 - val_loss: 1.8686e-04 - val_mean_absolute_error: 0.0107 - val_mean_absolute_percentage_error: 640599.2415 - val_cosine_proximity: -0.9330\n",
      "Epoch 4/25\n",
      "100000/100000 [==============================] - 39s 388us/step - loss: 2.8989e-04 - mean_absolute_error: 0.0130 - mean_absolute_percentage_error: 1087818.8425 - cosine_proximity: -0.9122 - val_loss: 1.0912e-04 - val_mean_absolute_error: 0.0075 - val_mean_absolute_percentage_error: 1190401.3648 - val_cosine_proximity: -0.9330\n",
      "Epoch 5/25\n",
      "100000/100000 [==============================] - 44s 435us/step - loss: 2.3401e-04 - mean_absolute_error: 0.0116 - mean_absolute_percentage_error: 1016761.7413 - cosine_proximity: -0.9112 - val_loss: 5.8817e-05 - val_mean_absolute_error: 0.0055 - val_mean_absolute_percentage_error: 568550.5893 - val_cosine_proximity: -0.9330\n",
      "Epoch 6/25\n",
      "100000/100000 [==============================] - 47s 467us/step - loss: 2.1092e-04 - mean_absolute_error: 0.0111 - mean_absolute_percentage_error: 990506.0100 - cosine_proximity: -0.9105 - val_loss: 5.6209e-05 - val_mean_absolute_error: 0.0053 - val_mean_absolute_percentage_error: 743867.9643 - val_cosine_proximity: -0.9330\n",
      "Epoch 7/25\n",
      "100000/100000 [==============================] - 46s 465us/step - loss: 1.9747e-04 - mean_absolute_error: 0.0108 - mean_absolute_percentage_error: 981372.6253 - cosine_proximity: -0.9087 - val_loss: 5.0103e-05 - val_mean_absolute_error: 0.0054 - val_mean_absolute_percentage_error: 456299.9565 - val_cosine_proximity: -0.9330\n",
      "Epoch 8/25\n",
      "100000/100000 [==============================] - 51s 514us/step - loss: 1.7355e-04 - mean_absolute_error: 0.0101 - mean_absolute_percentage_error: 963580.5733 - cosine_proximity: -0.9080 - val_loss: 1.0644e-04 - val_mean_absolute_error: 0.0083 - val_mean_absolute_percentage_error: 1233938.0722 - val_cosine_proximity: -0.9330\n",
      "Epoch 9/25\n",
      "100000/100000 [==============================] - 61s 607us/step - loss: 1.6400e-04 - mean_absolute_error: 0.0098 - mean_absolute_percentage_error: 918061.4236 - cosine_proximity: -0.9079 - val_loss: 4.5080e-05 - val_mean_absolute_error: 0.0053 - val_mean_absolute_percentage_error: 346098.7314 - val_cosine_proximity: -0.9330\n",
      "Epoch 10/25\n",
      "100000/100000 [==============================] - 58s 580us/step - loss: 1.6451e-04 - mean_absolute_error: 0.0099 - mean_absolute_percentage_error: 950953.8833 - cosine_proximity: -0.9037 - val_loss: 2.2549e-05 - val_mean_absolute_error: 0.0037 - val_mean_absolute_percentage_error: 290183.6013 - val_cosine_proximity: -0.9330\n",
      "Epoch 11/25\n",
      "100000/100000 [==============================] - 58s 583us/step - loss: 1.5766e-04 - mean_absolute_error: 0.0097 - mean_absolute_percentage_error: 943824.7234 - cosine_proximity: -0.9025 - val_loss: 3.6865e-05 - val_mean_absolute_error: 0.0047 - val_mean_absolute_percentage_error: 274096.1080 - val_cosine_proximity: -0.9330\n",
      "Epoch 12/25\n",
      "100000/100000 [==============================] - 64s 636us/step - loss: 1.3216e-04 - mean_absolute_error: 0.0089 - mean_absolute_percentage_error: 879828.3613 - cosine_proximity: -0.9059 - val_loss: 6.4723e-05 - val_mean_absolute_error: 0.0066 - val_mean_absolute_percentage_error: 1096857.3314 - val_cosine_proximity: -0.9330\n",
      "Epoch 13/25\n",
      "100000/100000 [==============================] - 66s 656us/step - loss: 1.2589e-04 - mean_absolute_error: 0.0086 - mean_absolute_percentage_error: 843522.2800 - cosine_proximity: -0.9065 - val_loss: 2.3356e-04 - val_mean_absolute_error: 0.0142 - val_mean_absolute_percentage_error: 1249963.8712 - val_cosine_proximity: -0.8042\n",
      "Epoch 14/25\n",
      "100000/100000 [==============================] - 67s 672us/step - loss: 1.1558e-04 - mean_absolute_error: 0.0082 - mean_absolute_percentage_error: 838016.7626 - cosine_proximity: -0.9075 - val_loss: 5.0139e-05 - val_mean_absolute_error: 0.0054 - val_mean_absolute_percentage_error: 995864.1829 - val_cosine_proximity: -0.9330\n",
      "Epoch 15/25\n",
      "100000/100000 [==============================] - 67s 673us/step - loss: 1.0639e-04 - mean_absolute_error: 0.0079 - mean_absolute_percentage_error: 824603.7316 - cosine_proximity: -0.9080 - val_loss: 3.1076e-05 - val_mean_absolute_error: 0.0047 - val_mean_absolute_percentage_error: 691850.1084 - val_cosine_proximity: -0.9330\n",
      "Epoch 16/25\n",
      "100000/100000 [==============================] - 67s 669us/step - loss: 9.5612e-05 - mean_absolute_error: 0.0074 - mean_absolute_percentage_error: 793966.3760 - cosine_proximity: -0.9090 - val_loss: 3.7627e-05 - val_mean_absolute_error: 0.0057 - val_mean_absolute_percentage_error: 422642.2166 - val_cosine_proximity: -0.9258\n",
      "Epoch 17/25\n",
      "100000/100000 [==============================] - 66s 664us/step - loss: 7.9837e-05 - mean_absolute_error: 0.0067 - mean_absolute_percentage_error: 728904.7613 - cosine_proximity: -0.9114 - val_loss: 6.1969e-06 - val_mean_absolute_error: 0.0020 - val_mean_absolute_percentage_error: 284457.9061 - val_cosine_proximity: -0.9330\n",
      "Epoch 18/25\n",
      "100000/100000 [==============================] - 68s 680us/step - loss: 7.0590e-05 - mean_absolute_error: 0.0062 - mean_absolute_percentage_error: 710907.0437 - cosine_proximity: -0.9123 - val_loss: 3.1911e-05 - val_mean_absolute_error: 0.0048 - val_mean_absolute_percentage_error: 546224.7575 - val_cosine_proximity: -0.9252\n",
      "Epoch 19/25\n",
      "100000/100000 [==============================] - 62s 621us/step - loss: 6.7852e-05 - mean_absolute_error: 0.0060 - mean_absolute_percentage_error: 704502.7882 - cosine_proximity: -0.9131 - val_loss: 9.0647e-06 - val_mean_absolute_error: 0.0024 - val_mean_absolute_percentage_error: 182804.2995 - val_cosine_proximity: -0.9330\n",
      "Epoch 20/25\n",
      "100000/100000 [==============================] - 70s 699us/step - loss: 6.1727e-05 - mean_absolute_error: 0.0057 - mean_absolute_percentage_error: 690711.3524 - cosine_proximity: -0.9130 - val_loss: 2.1551e-06 - val_mean_absolute_error: 0.0011 - val_mean_absolute_percentage_error: 116237.1375 - val_cosine_proximity: -0.9330\n",
      "Epoch 21/25\n",
      "100000/100000 [==============================] - 70s 699us/step - loss: 6.1120e-05 - mean_absolute_error: 0.0057 - mean_absolute_percentage_error: 683483.5807 - cosine_proximity: -0.9133 - val_loss: 4.8557e-05 - val_mean_absolute_error: 0.0046 - val_mean_absolute_percentage_error: 127412.8375 - val_cosine_proximity: -0.9330\n",
      "Epoch 22/25\n",
      "100000/100000 [==============================] - 89s 892us/step - loss: 5.8547e-05 - mean_absolute_error: 0.0056 - mean_absolute_percentage_error: 653388.7558 - cosine_proximity: -0.9150 - val_loss: 2.2930e-05 - val_mean_absolute_error: 0.0042 - val_mean_absolute_percentage_error: 589062.0247 - val_cosine_proximity: -0.9330\n",
      "Epoch 23/25\n",
      "100000/100000 [==============================] - 73s 729us/step - loss: 5.9166e-05 - mean_absolute_error: 0.0056 - mean_absolute_percentage_error: 659472.7633 - cosine_proximity: -0.9141 - val_loss: 4.6002e-05 - val_mean_absolute_error: 0.0056 - val_mean_absolute_percentage_error: 904704.7977 - val_cosine_proximity: -0.9330\n",
      "Epoch 24/25\n",
      "100000/100000 [==============================] - 106s 1ms/step - loss: 5.7237e-05 - mean_absolute_error: 0.0055 - mean_absolute_percentage_error: 664270.7919 - cosine_proximity: -0.9140 - val_loss: 2.0209e-05 - val_mean_absolute_error: 0.0038 - val_mean_absolute_percentage_error: 613146.3719 - val_cosine_proximity: -0.9330\n",
      "Epoch 25/25\n",
      "100000/100000 [==============================] - 87s 868us/step - loss: 5.4579e-05 - mean_absolute_error: 0.0054 - mean_absolute_percentage_error: 637095.8387 - cosine_proximity: -0.9148 - val_loss: 1.9369e-05 - val_mean_absolute_error: 0.0030 - val_mean_absolute_percentage_error: 759304.9550 - val_cosine_proximity: -0.9330\n"
     ]
    }
   ],
   "source": [
    "hist = mod.fit(train_dataset.flux, train_dataset.zs, epochs=25, shuffle=True, batch_size=128, validation_data=(val_dataset.flux, val_dataset.zs), callbacks=[epm, gsw_clb])#, callbacks=[clr])"
   ]
  },
  {
   "cell_type": "markdown",
   "metadata": {},
   "source": [
    "# It works!!!!\n",
    "Need to work on the formatting a bit more and encoding dataset information into the google sheet."
   ]
  },
  {
   "cell_type": "code",
   "execution_count": 25,
   "metadata": {},
   "outputs": [],
   "source": [
    "train_preds = mod.predict(train_dataset.flux)"
   ]
  },
  {
   "cell_type": "code",
   "execution_count": 26,
   "metadata": {},
   "outputs": [],
   "source": [
    "val_preds = mod.predict(val_dataset.flux)"
   ]
  },
  {
   "cell_type": "code",
   "execution_count": 27,
   "metadata": {},
   "outputs": [],
   "source": [
    "def sci_standard(y_t, y_p):\n",
    "    return np.mean(np.less_equal(np.abs(y_t-y_p), z_tol))"
   ]
  },
  {
   "cell_type": "code",
   "execution_count": 28,
   "metadata": {},
   "outputs": [
    {
     "data": {
      "image/png": "[encoded data removed]",
      "text/plain": [
       "<Figure size 432x288 with 1 Axes>"
      ]
     },
     "metadata": {
      "needs_background": "light"
     },
     "output_type": "display_data"
    }
   ],
   "source": [
    "plt.axvline(z_tol, c='red')\n",
    "plt.axvline(-z_tol, c='red')\n",
    "plt.hist(train_dataset.zs - train_preds)\n",
    "plt.title(sci_standard(train_dataset.zs, train_preds))\n",
    "plt.show()"
   ]
  },
  {
   "cell_type": "code",
   "execution_count": 29,
   "metadata": {},
   "outputs": [
    {
     "data": {
      "image/png": "[encoded data removed]",
      "text/plain": [
       "<Figure size 432x288 with 1 Axes>"
      ]
     },
     "metadata": {
      "needs_background": "light"
     },
     "output_type": "display_data"
    }
   ],
   "source": [
    "plt.axvline(z_tol, c='red')\n",
    "plt.axvline(-z_tol, c='red')\n",
    "plt.hist(val_preds - val_dataset.zs)\n",
    "plt.title(sci_standard(val_preds, val_dataset.zs))\n",
    "plt.show()"
   ]
  }
 ],
 "metadata": {
  "kernelspec": {
   "display_name": "Python 3",
   "language": "python",
   "name": "python3"
  },
  "language_info": {
   "codemirror_mode": {
    "name": "ipython",
    "version": 3
   },
   "file_extension": ".py",
   "mimetype": "text/x-python",
   "name": "python",
   "nbconvert_exporter": "python",
   "pygments_lexer": "ipython3",
   "version": "3.7.2"
  }
 },
 "nbformat": 4,
 "nbformat_minor": 2
}
